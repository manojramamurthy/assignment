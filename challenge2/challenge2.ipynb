{
 "cells": [
  {
   "cell_type": "code",
   "execution_count": 2,
   "metadata": {},
   "outputs": [],
   "source": [
    "import pandas as pd\n",
    "from skimage.transform import resize\n",
    "import sqlite3"
   ]
  },
  {
   "cell_type": "code",
   "execution_count": 4,
   "metadata": {},
   "outputs": [
    {
     "name": "stderr",
     "output_type": "stream",
     "text": [
      "/Users/manojkumar/miniconda3/envs/venv/lib/python3.12/site-packages/skimage/transform/_warps.py:738: RuntimeWarning: All-NaN slice encountered\n",
      "  min_val = min_func(input_image)\n",
      "/Users/manojkumar/miniconda3/envs/venv/lib/python3.12/site-packages/skimage/transform/_warps.py:742: RuntimeWarning: All-NaN slice encountered\n",
      "  max_val = max_func(input_image)\n"
     ]
    }
   ],
   "source": [
    "df = pd.read_csv('Challenge2.csv')\n",
    "\n",
    "# create column names for dataframe and database table\n",
    "cols = \"depth, \"\n",
    "for i in range(1, 151):\n",
    "    cols += f'col{i},'\n",
    "\n",
    "df_final = pd.DataFrame(columns=cols.rstrip(cols[-1]).split(','))\n",
    "\n",
    "for idx, row in df.iterrows():\n",
    "    # resize the 200 columns to 150 columns using skimage\n",
    "    bottle_resized = resize(row[1:-1], (150, 150))[0].tolist()\n",
    "    bottle_resized.insert(0, row['depth'])\n",
    "    #write to dataframe\n",
    "    df_final.loc[idx] = bottle_resized\n",
    "\n",
    "# Connect to the SQLite database\n",
    "conn = sqlite3.connect('challenge2.db')\n",
    "c = conn.cursor()\n",
    "\n",
    "# write data to sqlite3 datatable (challenge2)\n",
    "df_final.to_sql('challenge2', conn, if_exists='append', index=False)\n",
    "\n",
    "# Commit changes and close the connection\n",
    "conn.commit()\n",
    "conn.close()"
   ]
  },
  {
   "cell_type": "code",
   "execution_count": null,
   "metadata": {},
   "outputs": [],
   "source": []
  }
 ],
 "metadata": {
  "kernelspec": {
   "display_name": "objectdetect",
   "language": "python",
   "name": "objectdetect"
  },
  "language_info": {
   "codemirror_mode": {
    "name": "ipython",
    "version": 3
   },
   "file_extension": ".py",
   "mimetype": "text/x-python",
   "name": "python",
   "nbconvert_exporter": "python",
   "pygments_lexer": "ipython3",
   "version": "3.12.3"
  }
 },
 "nbformat": 4,
 "nbformat_minor": 2
}
